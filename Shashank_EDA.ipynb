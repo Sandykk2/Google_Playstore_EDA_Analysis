{
  "nbformat": 4,
  "nbformat_minor": 0,
  "metadata": {
    "colab": {
      "provenance": [],
      "include_colab_link": true
    },
    "kernelspec": {
      "name": "python3",
      "display_name": "Python 3"
    },
    "language_info": {
      "name": "python"
    }
  },
  "cells": [
    {
      "cell_type": "markdown",
      "metadata": {
        "id": "view-in-github",
        "colab_type": "text"
      },
      "source": [
        "<a href=\"https://colab.research.google.com/github/Sandykk2/Google_Playstore_EDA_Analysis/blob/main/Shashank_EDA.ipynb\" target=\"_parent\"><img src=\"https://colab.research.google.com/assets/colab-badge.svg\" alt=\"Open In Colab\"/></a>"
      ]
    },
    {
      "cell_type": "markdown",
      "source": [
        "---\n",
        "\n",
        "# **Google Play Store Analysis**                      \n",
        "\n",
        "---\n",
        "\n"
      ],
      "metadata": {
        "id": "9wi7kS-XywGG"
      }
    },
    {
      "cell_type": "code",
      "source": [
        "from PIL import Image, ImageDraw"
      ],
      "metadata": {
        "id": "8wbcCt4FtPK4"
      },
      "execution_count": null,
      "outputs": []
    },
    {
      "cell_type": "code",
      "source": [
        "import Image'google-play.png',width=700,align='mid'"
      ],
      "metadata": {
        "colab": {
          "base_uri": "https://localhost:8080/",
          "height": 130
        },
        "id": "Pdg4zrgs-av3",
        "outputId": "451b04ef-8756-4594-c015-fb57b1ef56dd"
      },
      "execution_count": null,
      "outputs": [
        {
          "output_type": "error",
          "ename": "SyntaxError",
          "evalue": "ignored",
          "traceback": [
            "\u001b[0;36m  File \u001b[0;32m\"<ipython-input-6-49428422c3d4>\"\u001b[0;36m, line \u001b[0;32m1\u001b[0m\n\u001b[0;31m    import Image'google-play.png',width=700\u001b[0m\n\u001b[0m                ^\u001b[0m\n\u001b[0;31mSyntaxError\u001b[0m\u001b[0;31m:\u001b[0m invalid syntax\n"
          ]
        }
      ]
    },
    {
      "cell_type": "markdown",
      "source": [
        "Github link : https://github.com/Sandykk2/Google_Playstore_EDA_Analysis"
      ],
      "metadata": {
        "id": "ACQ8iV9k7mwZ"
      }
    },
    {
      "cell_type": "markdown",
      "source": [
        "### import all libraries like numpy, pandas, matplotlib, seaborn\n"
      ],
      "metadata": {
        "id": "ts41vqZg7QfO"
      }
    },
    {
      "cell_type": "code",
      "execution_count": null,
      "metadata": {
        "id": "qL18vpZqk3IL"
      },
      "outputs": [],
      "source": [
        "import numpy as np                # for importing numerical python libraries \n",
        "import pandas as pd               # for importing pandas libraries for handle dataframes\n",
        "import matplotlib.pyplot as plt   #for drawing plots to visualise in easy format\n",
        "%matplotlib inline \n",
        "import seaborn as sns             # draw statistical graphics in Python histogram, heatmaps and 2 dimensional bar graph"
      ]
    },
    {
      "cell_type": "code",
      "source": [
        "'''First we mount ther drive \n",
        "After that we give the path where csv file has stored in drive'''\n",
        "\n",
        "D1= '/content/drive/MyDrive/csv files /google play store/Play Store Data.csv'"
      ],
      "metadata": {
        "id": "ABiY-C_hltxk"
      },
      "execution_count": null,
      "outputs": []
    },
    {
      "cell_type": "code",
      "source": [
        "# Firstly we call the pandas library and create a dataframe from command pd.read_csv \n",
        "playstr=pd.read_csv(D1)\n",
        "#Check the data frame for roughly view \n",
        "playstr\n"
      ],
      "metadata": {
        "id": "MYR3AW5goCcR"
      },
      "execution_count": null,
      "outputs": []
    },
    {
      "cell_type": "code",
      "source": [
        "# As it shows the shape of our google playstore dataframe \n",
        "# Then we use head() and tail() commands to check first 5 and last five rows \n",
        "playstr.head()\n",
        "# Note  : We also define the index size to check where we want to see from the zeroth index "
      ],
      "metadata": {
        "id": "5JdvhmQBogkG"
      },
      "execution_count": null,
      "outputs": []
    },
    {
      "cell_type": "code",
      "source": [
        "# then we use tail() command\n",
        "playstr.tail()"
      ],
      "metadata": {
        "id": "UWNWfOos0TXN"
      },
      "execution_count": null,
      "outputs": []
    },
    {
      "cell_type": "code",
      "source": [
        "# As we know the shape of dataframe but for cross check df.shape\n",
        "playstr.shape"
      ],
      "metadata": {
        "id": "5lKM-FEN0evj"
      },
      "execution_count": null,
      "outputs": []
    },
    {
      "cell_type": "code",
      "source": [
        "playstr.columns"
      ],
      "metadata": {
        "id": "MCfkv7X2uNrW"
      },
      "execution_count": null,
      "outputs": []
    },
    {
      "cell_type": "code",
      "source": [
        "# After that we use info to get what is in this dataset in tabular form\n",
        "playstr.info()"
      ],
      "metadata": {
        "colab": {
          "base_uri": "https://localhost:8080/"
        },
        "id": "LoZ5f3LR05gC",
        "outputId": "59184b4e-3e2c-4379-d704-e18682ba3b27"
      },
      "execution_count": null,
      "outputs": [
        {
          "output_type": "stream",
          "name": "stdout",
          "text": [
            "<class 'pandas.core.frame.DataFrame'>\n",
            "RangeIndex: 10841 entries, 0 to 10840\n",
            "Data columns (total 13 columns):\n",
            " #   Column          Non-Null Count  Dtype  \n",
            "---  ------          --------------  -----  \n",
            " 0   App             10841 non-null  object \n",
            " 1   Category        10841 non-null  object \n",
            " 2   Rating          9367 non-null   float64\n",
            " 3   Reviews         10841 non-null  object \n",
            " 4   Size            10841 non-null  object \n",
            " 5   Installs        10841 non-null  object \n",
            " 6   Type            10840 non-null  object \n",
            " 7   Price           10841 non-null  object \n",
            " 8   Content Rating  10840 non-null  object \n",
            " 9   Genres          10841 non-null  object \n",
            " 10  Last Updated    10841 non-null  object \n",
            " 11  Current Ver     10833 non-null  object \n",
            " 12  Android Ver     10838 non-null  object \n",
            "dtypes: float64(1), object(12)\n",
            "memory usage: 1.1+ MB\n"
          ]
        }
      ]
    },
    {
      "cell_type": "markdown",
      "source": [
        "As we can see that in above info we have some null values \n",
        "so we fill the null values with zeros/mean/median asper the condition"
      ],
      "metadata": {
        "id": "kH4Pz4KZ6l8O"
      }
    },
    {
      "cell_type": "code",
      "source": [
        "playstr.isnull().sum()"
      ],
      "metadata": {
        "colab": {
          "base_uri": "https://localhost:8080/"
        },
        "id": "z12KMbua6-fw",
        "outputId": "18896f47-b3ad-41c2-ab7a-81fec91515db"
      },
      "execution_count": null,
      "outputs": [
        {
          "output_type": "execute_result",
          "data": {
            "text/plain": [
              "App                  0\n",
              "Category             0\n",
              "Rating            1474\n",
              "Reviews              0\n",
              "Size                 0\n",
              "Installs             0\n",
              "Type                 1\n",
              "Price                0\n",
              "Content Rating       1\n",
              "Genres               0\n",
              "Last Updated         0\n",
              "Current Ver          8\n",
              "Android Ver          3\n",
              "dtype: int64"
            ]
          },
          "metadata": {},
          "execution_count": 46
        }
      ]
    },
    {
      "cell_type": "markdown",
      "source": [
        "As we can see that there are null values in rating,type,content rating,curr version and android version\n"
      ],
      "metadata": {
        "id": "5Qsu26WZ7TcQ"
      }
    },
    {
      "cell_type": "code",
      "source": [
        "'''cpy.fillna(0, inplace=True)''' #for changing null values with zero"
      ],
      "metadata": {
        "id": "aqGtRr9gMTjG"
      },
      "execution_count": null,
      "outputs": []
    },
    {
      "cell_type": "code",
      "source": [
        "# We have another dataset of user reviews  load and check it what has got it that dataset \n",
        "dir2=\"/content/drive/MyDrive/csv files /google play store/User Reviews.csv\"\n",
        "rvw=pd.read_csv(dir2)\n",
        "rvw"
      ],
      "metadata": {
        "id": "GJqfrwqt1HOp"
      },
      "execution_count": null,
      "outputs": []
    },
    {
      "cell_type": "code",
      "source": [
        "rvw.head()"
      ],
      "metadata": {
        "id": "37JrR7-g2m8g"
      },
      "execution_count": null,
      "outputs": []
    },
    {
      "cell_type": "code",
      "source": [
        "rvw.tail()"
      ],
      "metadata": {
        "id": "NRvxSjmB2qbH"
      },
      "execution_count": null,
      "outputs": []
    },
    {
      "cell_type": "code",
      "source": [
        "rvw.info()"
      ],
      "metadata": {
        "id": "s6lbqHUH2tyf"
      },
      "execution_count": null,
      "outputs": []
    },
    {
      "cell_type": "code",
      "source": [],
      "metadata": {
        "id": "dd6C_dqLCkO2"
      },
      "execution_count": null,
      "outputs": []
    },
    {
      "cell_type": "code",
      "source": [],
      "metadata": {
        "id": "-kDYJV_l2vUf"
      },
      "execution_count": null,
      "outputs": []
    }
  ]
}